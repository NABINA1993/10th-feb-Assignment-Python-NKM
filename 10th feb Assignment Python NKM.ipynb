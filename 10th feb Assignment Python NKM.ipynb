{
 "cells": [
  {
   "cell_type": "markdown",
   "id": "336f9120",
   "metadata": {},
   "source": [
    "Q1. Which function is used to open a file? What are the different modes of opening a file? Explain each mode \n",
    "of file opening."
   ]
  },
  {
   "cell_type": "code",
   "execution_count": 5,
   "id": "8de67f4a",
   "metadata": {},
   "outputs": [
    {
     "data": {
      "text/plain": [
       "\"The most commonly used modes are 'r', 'w', and 'a'.\\nTo open a file in text mode, you can use the 't' flag, and to open a file in binary mode, you can use the 'b' flag.\\nFor example, 'rb' opens a binary file in read mode, and 'wt' opens a text file in write mode.\""
      ]
     },
     "execution_count": 5,
     "metadata": {},
     "output_type": "execute_result"
    }
   ],
   "source": [
    "#Ans:= The open() function is used to open a file in Python. The syntax of the open() function is:\n",
    "    #file_object = open(file_name, mode)\n",
    "\"\"\"The most commonly used modes are 'r', 'w', and 'a'.\n",
    "To open a file in text mode, you can use the 't' flag, and to open a file in binary mode, you can use the 'b' flag.\n",
    "For example, 'rb' opens a binary file in read mode, and 'wt' opens a text file in write mode.\"\"\""
   ]
  },
  {
   "cell_type": "markdown",
   "id": "25be778c",
   "metadata": {},
   "source": [
    "Q2. Why close() function is used? Why is it important to close a file?"
   ]
  },
  {
   "cell_type": "markdown",
   "id": "d4b26ba8",
   "metadata": {},
   "source": [
    "The close() function is used to close a file that has been opened in Python. When you open a file, the system reserves a certain amount of memory and other resources for it, and closing the file frees up those resources so that they can be used by other parts of the program or the operating system.\n",
    "\n",
    "It is important to close a file for several reasons:\n",
    "\n",
    "Resource Management: As mentioned, closing a file frees up the resources that were being used by the file, such as memory, file handles, and buffers. This helps to prevent resource exhaustion and ensures that the operating system runs efficiently.\n",
    "\n",
    "Data Integrity: If a file is not closed properly, any changes that have been made to it may not be saved. Closing the file ensures that all data is written to the file and that the file is in a consistent state.\n",
    "\n",
    "Avoiding Conflicts: If multiple programs or parts of a program try to access the same file simultaneously, they may interfere with each other. Closing a file ensures that any changes made to the file are finished before another part of the program can access it.\n",
    "\n",
    "In general, it's a good practice to close a file as soon as you're done using it, to ensure that resources are released and data is saved correctly. The with statement in Python provides a convenient way to automatically close a file when it's no longer needed, without having to remember to call the close() method explicitly."
   ]
  },
  {
   "cell_type": "markdown",
   "id": "15c619cd",
   "metadata": {},
   "source": [
    "Q3. Write a python program to create a text file. Write ‘I want to become a Data Scientist’ in that file. Then \n",
    "close the file. Open this file and read the content of the file. "
   ]
  },
  {
   "cell_type": "code",
   "execution_count": 6,
   "id": "11b7ea50",
   "metadata": {},
   "outputs": [
    {
     "name": "stdout",
     "output_type": "stream",
     "text": [
      "I want to become a Data Scientist\n"
     ]
    }
   ],
   "source": [
    "# Creating a text file and writing a line of text to it\n",
    "with open(\"sample.txt\", \"w\") as file:\n",
    "    file.write(\"I want to become a Data Scientist\")\n",
    "\n",
    "# Reading the contents of the file\n",
    "with open(\"sample.txt\", \"r\") as file:\n",
    "    contents = file.read()\n",
    "    print(contents)"
   ]
  },
  {
   "cell_type": "markdown",
   "id": "0da4f129",
   "metadata": {},
   "source": [
    "Q4. Explain the following with python code: read(), readline() and readlines()."
   ]
  },
  {
   "cell_type": "code",
   "execution_count": 7,
   "id": "c3a6a23c",
   "metadata": {},
   "outputs": [
    {
     "name": "stdout",
     "output_type": "stream",
     "text": [
      "I want to become a Data Scientist\n"
     ]
    }
   ],
   "source": [
    "#The read() method reads the entire contents of a file as a single string:\n",
    "with open(\"sample.txt\", \"r\") as file:\n",
    "    contents = file.read()\n",
    "    print(contents)"
   ]
  },
  {
   "cell_type": "code",
   "execution_count": 8,
   "id": "114638ab",
   "metadata": {},
   "outputs": [
    {
     "name": "stdout",
     "output_type": "stream",
     "text": [
      "I want to become a Data Scientist\n"
     ]
    }
   ],
   "source": [
    "#The readline() method reads a single line from the file at a time:\n",
    "with open(\"sample.txt\", \"r\") as file:\n",
    "    line = file.readline()\n",
    "    while line:\n",
    "        print(line)\n",
    "        line = file.readline()"
   ]
  },
  {
   "cell_type": "code",
   "execution_count": 9,
   "id": "7fb482be",
   "metadata": {},
   "outputs": [
    {
     "name": "stdout",
     "output_type": "stream",
     "text": [
      "I want to become a Data Scientist\n"
     ]
    }
   ],
   "source": [
    "#The readlines() method reads the entire file into a list, where each list item is a single line of the file:\n",
    "with open(\"sample.txt\", \"r\") as file:\n",
    "    lines = file.readlines()\n",
    "    for line in lines:\n",
    "        print(line)"
   ]
  },
  {
   "cell_type": "markdown",
   "id": "4bcb6732",
   "metadata": {},
   "source": [
    "Q5. Explain why with statement is used with open(). What is the advantage of using with statement and \n",
    "open() together?"
   ]
  },
  {
   "cell_type": "markdown",
   "id": "a240c616",
   "metadata": {},
   "source": [
    "The with statement is used with the open() function to create a context in which a file is automatically closed when the block of code is exited, regardless of how the block of code is exited (e.g., due to an exception, normal completion, etc.). This provides a convenient and reliable way to ensure that the file is always closed, even if an error occurs in the code.\n",
    "\n",
    "The advantage of using the with statement with open() is that it eliminates the need to explicitly call the close() method, which can be easy to forget or difficult to write correctly, especially in complex code. Additionally, using the with statement ensures that the file is closed even if an exception is raised in the code, which helps to prevent resource leaks and other problems."
   ]
  },
  {
   "cell_type": "code",
   "execution_count": 10,
   "id": "dad6726a",
   "metadata": {},
   "outputs": [
    {
     "name": "stdout",
     "output_type": "stream",
     "text": [
      "I want to become a Data Scientist\n"
     ]
    }
   ],
   "source": [
    "#Here is an example of using the with statement with open():\n",
    "with open(\"sample.txt\", \"r\") as file:\n",
    "    contents = file.read()\n",
    "    print(contents)"
   ]
  },
  {
   "cell_type": "markdown",
   "id": "7f89cc4c",
   "metadata": {},
   "source": [
    "Q6. Explain the write() and writelines() functions. Give a suitable example."
   ]
  },
  {
   "cell_type": "code",
   "execution_count": 11,
   "id": "8ddeed64",
   "metadata": {},
   "outputs": [],
   "source": [
    "#The write() and writelines() functions are used to write data to a file in Python.\n",
    "\n",
    "    #The write() function writes a single string to the file:\n",
    "with open(\"sample.txt\", \"w\") as file:\n",
    "    file.write(\"I want to become a Data Scientist\")"
   ]
  },
  {
   "cell_type": "code",
   "execution_count": 12,
   "id": "2d14b2f2",
   "metadata": {},
   "outputs": [],
   "source": [
    "#The writelines() function writes a list of strings to the file, where each list item is a single line in the file:\n",
    "lines = [\"Line 1\", \"Line 2\", \"Line 3\"]\n",
    "with open(\"sample.txt\", \"w\") as file:\n",
    "    file.writelines(lines)"
   ]
  },
  {
   "cell_type": "code",
   "execution_count": null,
   "id": "a5578014",
   "metadata": {},
   "outputs": [],
   "source": []
  }
 ],
 "metadata": {
  "kernelspec": {
   "display_name": "Python 3 (ipykernel)",
   "language": "python",
   "name": "python3"
  },
  "language_info": {
   "codemirror_mode": {
    "name": "ipython",
    "version": 3
   },
   "file_extension": ".py",
   "mimetype": "text/x-python",
   "name": "python",
   "nbconvert_exporter": "python",
   "pygments_lexer": "ipython3",
   "version": "3.10.5"
  }
 },
 "nbformat": 4,
 "nbformat_minor": 5
}
